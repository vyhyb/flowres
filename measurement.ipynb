{
 "cells": [
  {
   "cell_type": "markdown",
   "id": "335125bc",
   "metadata": {},
   "source": [
    "# Flow resistivity measurement\n",
    "\n",
    "based on ISO 9053-1\n",
    "\n",
    "The following notebook can be used for measurements of flow rate and pressure sequence, which can be further used for flow resistence and resistivity determination.\n",
    "\n",
    "**Be careful** about the `target_flow_rate` span. The current setup cannot easily go under **0.5 l/min** and values above **1.5** (for 45 mm specimen diameter) is near the limit given by the standard. In general, it is possible to go higher, it is however necessary to stay in linear region (the line given by pressure to flow rate should not bend for the higher measured values)."
   ]
  },
  {
   "cell_type": "markdown",
   "id": "528b3b80",
   "metadata": {},
   "source": [
    "## Initial imports and preparations\n",
    "\n",
    "The following cell imports all the necassary modules and classes and tries to connect to all the devices. Make sure that all the devices are connected and running before running that cell."
   ]
  },
  {
   "cell_type": "code",
   "execution_count": null,
   "id": "9a51a461-5cc9-4fa3-94c2-15af4b3b240c",
   "metadata": {},
   "outputs": [],
   "source": [
    "from flowres import FestoFlowActuator, TSI4100FlowMeter, PressureSensor, measurement_loop, export_csv, flow_rate_array, iso_calculation\n",
    "import os\n",
    "import logging\n",
    "logging.basicConfig(level=logging.INFO)\n",
    "import numpy as np\n",
    "from time import strftime\n",
    "\n",
    "# initiation of the sensor\n",
    "flow_sensor = TSI4100FlowMeter(\"COM1\")\n",
    "flow_actuator = FestoFlowActuator()\n",
    "pressure_sensor = PressureSensor()"
   ]
  },
  {
   "cell_type": "markdown",
   "id": "36000eff",
   "metadata": {},
   "source": [
    "## Measurement\n",
    "The following two cells define the specimen, the flow rate span and steps and run the measurment itself\n",
    "\n",
    "### Specimen definition"
   ]
  },
  {
   "cell_type": "code",
   "execution_count": null,
   "id": "ed4017de",
   "metadata": {},
   "outputs": [],
   "source": [
    "name = \"test\"\n",
    "timestamp = strftime(\"%y-%m-%d_%H-%M\")\n",
    "radius = 0.0225\n",
    "\n",
    "start_flow = 0.5\n",
    "end_flow = 1.5\n",
    "steps = 100\n",
    "two_way = True\n",
    "target_flow_rates = flow_rate_array(start_flow, end_flow, steps, two_way)"
   ]
  },
  {
   "cell_type": "markdown",
   "id": "a5a30b4b",
   "metadata": {},
   "source": [
    "### Measurement"
   ]
  },
  {
   "cell_type": "code",
   "execution_count": null,
   "id": "a4bf5b4e-56b6-48cf-93a7-70d329d3442a",
   "metadata": {},
   "outputs": [],
   "source": [
    "try:\n",
    "    flow_sensor.open()\n",
    "    pressure_sensor.open()\n",
    "    \n",
    "    pressure, flow_rate = measurement_loop(pressure_sensor, flow_sensor, flow_actuator, target_flow_rates)\n",
    "    data = np.stack((pressure, flow_rate), axis=1)\n",
    "    export_csv(data, f\"{timestamp}_{name}.csv\")\n",
    "finally:\n",
    "    flow_sensor.close()\n",
    "    pressure_sensor.close()"
   ]
  },
  {
   "cell_type": "markdown",
   "id": "538f1fac",
   "metadata": {},
   "source": [
    "## Post-processing and export\n",
    "\n",
    "The next step is linear regression of the results and figure showing the curve together with the std span."
   ]
  },
  {
   "cell_type": "code",
   "execution_count": null,
   "id": "0cb85858-3f0f-4277-860a-c0de4fcdad34",
   "metadata": {},
   "outputs": [],
   "source": [
    "import matplotlib.pyplot as plt\n",
    "from scipy.stats import linregress\n",
    "\n",
    "flow_rate_m3s = flow_rate / 1000 / 60\n",
    "velocity_mms = flow_rate_m3s / (np.pi*radius**2) * 1000\n",
    "\n",
    "# linear regression\n",
    "reg = linregress(pressure, velocity_mms)\n",
    "pressure_reg = np.array([0, pressure[-1]])\n",
    "velocity_reg = pressure_reg*reg.slope\n",
    "# std envelopes\n",
    "velocitystd_reg_top = pressure_reg*(reg.slope+reg.stderr) + reg.intercept+reg.intercept_stderr\n",
    "velocitystd_reg_bottom = pressure_reg*(reg.slope-reg.stderr) + reg.intercept-reg.intercept_stderr\n",
    "\n",
    "# plots\n",
    "plt.scatter(pressure,velocity_mms, alpha=0.5, label=\"measured points\");\n",
    "plt.fill_between(pressure_reg, velocitystd_reg_top, velocitystd_reg_bottom, alpha=0.7, label=f\"regression +- stderr\")\n",
    "plt.plot(pressure_reg, velocity_reg, label=f\"regression\\n(offset {reg.intercept:.3f} +- {reg.intercept_stderr:.3f})\")\n",
    "plt.legend()\n",
    "plt.xlabel(\"pressure[Pa]\")\n",
    "plt.ylabel(\"velocity[mm/s]\")\n",
    "plt.savefig(f\"{timestamp}_{name}.png\")"
   ]
  },
  {
   "cell_type": "code",
   "execution_count": null,
   "id": "c81c8ab9",
   "metadata": {},
   "outputs": [],
   "source": [
    "diameter = 0.045\n",
    "\n",
    "radius = diameter/2\n",
    "surface_area = np.pi*radius**2\n",
    "results = iso_calculation(flow_rates=flow_rate, pressures=pressure, surface_area=surface_area)\n",
    "results.export(filename=f\"{timestamp}_{name}\")"
   ]
  }
 ],
 "metadata": {
  "kernelspec": {
   "display_name": "Python 3 (ipykernel)",
   "language": "python",
   "name": "python3"
  },
  "language_info": {
   "codemirror_mode": {
    "name": "ipython",
    "version": 3
   },
   "file_extension": ".py",
   "mimetype": "text/x-python",
   "name": "python",
   "nbconvert_exporter": "python",
   "pygments_lexer": "ipython3",
   "version": "3.8.6"
  }
 },
 "nbformat": 4,
 "nbformat_minor": 5
}
